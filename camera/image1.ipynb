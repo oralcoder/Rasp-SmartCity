{
  "nbformat": 4,
  "nbformat_minor": 0,
  "metadata": {
    "colab": {
      "name": "image1.ipynb",
      "provenance": [],
      "authorship_tag": "ABX9TyNope1nbxTjPF7ykhuM2rKk",
      "include_colab_link": true
    },
    "kernelspec": {
      "name": "python3",
      "display_name": "Python 3"
    },
    "language_info": {
      "name": "python"
    }
  },
  "cells": [
    {
      "cell_type": "markdown",
      "metadata": {
        "id": "view-in-github",
        "colab_type": "text"
      },
      "source": [
        "<a href=\"https://colab.research.google.com/github/oralcoder/Rasp-SmartCity/blob/main/camera/image1.ipynb\" target=\"_parent\"><img src=\"https://colab.research.google.com/assets/colab-badge.svg\" alt=\"Open In Colab\"/></a>"
      ]
    },
    {
      "cell_type": "markdown",
      "source": [
        "## 필수 모듈 가져오기"
      ],
      "metadata": {
        "id": "CiUVr7ZMuuLe"
      }
    },
    {
      "cell_type": "code",
      "execution_count": 1,
      "metadata": {
        "id": "4p6Cj4wCur01"
      },
      "outputs": [],
      "source": [
        "import cv2"
      ]
    },
    {
      "cell_type": "markdown",
      "source": [
        "## 이미지 열기"
      ],
      "metadata": {
        "id": "izEU6OxruyOV"
      }
    },
    {
      "cell_type": "code",
      "source": [
        "img = cv2.imread('Lenna.png', cv2.IMREAD_COLOR)"
      ],
      "metadata": {
        "id": "uoocIsOfuwrZ"
      },
      "execution_count": null,
      "outputs": []
    },
    {
      "cell_type": "markdown",
      "source": [
        "## 이미지 정보 출력"
      ],
      "metadata": {
        "id": "XwCEyKn6u121"
      }
    },
    {
      "cell_type": "code",
      "source": [
        "h,w,color = img.shape\n",
        "print(h,w,color)\n",
        "\n",
        "# 512, 512, 3"
      ],
      "metadata": {
        "id": "jxDQzfDju1RO"
      },
      "execution_count": null,
      "outputs": []
    },
    {
      "cell_type": "markdown",
      "source": [
        "## 이미지 출력"
      ],
      "metadata": {
        "id": "6mV8YhtOu4TJ"
      }
    },
    {
      "cell_type": "code",
      "source": [
        "cv2.imshow('IMAGE', img)\n",
        "cv2.waitKey(0)\n",
        "cv2.destroyAllWindows() "
      ],
      "metadata": {
        "id": "aP3Z_RpIu73-"
      },
      "execution_count": null,
      "outputs": []
    },
    {
      "cell_type": "markdown",
      "source": [
        "## 픽셀 확인"
      ],
      "metadata": {
        "id": "srfAQzlOu-Jk"
      }
    },
    {
      "cell_type": "code",
      "source": [
        "px = img[511][511]\n",
        "print(px)\n",
        "\n",
        "# 81, 74, 185"
      ],
      "metadata": {
        "id": "RyuxQ65Bu_Qc"
      },
      "execution_count": null,
      "outputs": []
    },
    {
      "cell_type": "markdown",
      "source": [
        "## 관심영역(Region of Interest: ROI) 추출"
      ],
      "metadata": {
        "id": "tiJY71FAvFak"
      }
    },
    {
      "cell_type": "code",
      "source": [
        "roi = img[200:400, 250:350]\n",
        "cv2.imshow(roi)\n",
        "cv2.waitKey(0)\n",
        "cv2.destroyAllWindows() "
      ],
      "metadata": {
        "id": "-_hoe0PCvIxz"
      },
      "execution_count": null,
      "outputs": []
    },
    {
      "cell_type": "markdown",
      "source": [
        "## 가우시안 흐림 효과\n"
      ],
      "metadata": {
        "id": "BQEPnqMXvPNw"
      }
    },
    {
      "cell_type": "code",
      "source": [
        "imgBlurred = cv2.GaussianBlur(img, ksize=(3,3), sigmaX=0)\n",
        "cv2.imshow('Blurred1', img)\n",
        "imgBlurred = cv2.GaussianBlur(img, ksize=(9,9), sigmaX=0)\n",
        "cv2.imshow('Blurred2', img)"
      ],
      "metadata": {
        "id": "Ow9W47p9vO8K"
      },
      "execution_count": null,
      "outputs": []
    },
    {
      "cell_type": "markdown",
      "source": [
        "## 이진화"
      ],
      "metadata": {
        "id": "Oj1U15gCvTOg"
      }
    },
    {
      "cell_type": "code",
      "source": [
        "ret, thres = cv2.threshold(img, 127, 255, cv2.THRESH_BINARY)       # max_value | 0\n",
        "cv2.imshow('BINARY', img)\n",
        "ret, thres = cv2.threshold(img, 127, 255, cv2.THRESH_BINARY_INV)   # 0 | max_value\n",
        "cv2.imshow('BINARY_INV', img)\n",
        "ret, thres = cv2.threshold(img, 127, 255, cv2.THRESH_TRUNC)        # threshold | original\n",
        "cv2.imshow('TRUNC', img)\n",
        "ret, thres = cv2.threshold(img, 127, 255, cv2.THRESH_TOZERO)       # original | 0\n",
        "cv2.imshow('TOZERO', img)\n",
        "ret, thres = cv2.threshold(img, 127, 255, cv2.THRESH_TOZERO_INV)   # 0 | original\n",
        "cv2.imshow('TOZERO_INV', img)"
      ],
      "metadata": {
        "id": "FEW8u5jKvUmh"
      },
      "execution_count": null,
      "outputs": []
    },
    {
      "cell_type": "markdown",
      "source": [
        "## 그리기"
      ],
      "metadata": {
        "id": "LIzKSZzQvXe-"
      }
    },
    {
      "cell_type": "markdown",
      "source": [
        "#### 사각형"
      ],
      "metadata": {
        "id": "BkIzMOXUvYgI"
      }
    },
    {
      "cell_type": "code",
      "source": [
        "# cv2.rectangle(img_name, start_point, end_point, line_color, thickness)\n",
        "rect = cv2.rectangle(img, (240, 230), (350,380), (0,255,0), 3)\n",
        "\n",
        "cv2.imshow('RECT', rect)"
      ],
      "metadata": {
        "id": "s6Q3-TRyvZcD"
      },
      "execution_count": null,
      "outputs": []
    },
    {
      "cell_type": "markdown",
      "source": [
        "#### 원"
      ],
      "metadata": {
        "id": "bpzUq_mNvc0b"
      }
    },
    {
      "cell_type": "code",
      "source": [
        "#cv2.circle(img_name, center_point, radius, line_color, thickness)\n",
        "circle = cv2.circle(img, (290, 300), 80, (255,0,0), 5)\n",
        "cv2.imshow('CIRCLE', circle)"
      ],
      "metadata": {
        "id": "J1aiNXvbveIC"
      },
      "execution_count": null,
      "outputs": []
    },
    {
      "cell_type": "markdown",
      "source": [
        "#### 텍스트"
      ],
      "metadata": {
        "id": "KB-p8dX7vfUa"
      }
    },
    {
      "cell_type": "code",
      "source": [
        "# cv2.putText(text, point(좌측하단), font, font_scale, color)\n",
        "text = cv2.putText(img, \"Hello World\", (50, 80), cv2.FONT_HERSHEY_DUPLEX, 2, (255, 255, 255))\n",
        "cv2.imshow('TEXT', text)"
      ],
      "metadata": {
        "id": "Am_Q87T-vgot"
      },
      "execution_count": null,
      "outputs": []
    }
  ]
}